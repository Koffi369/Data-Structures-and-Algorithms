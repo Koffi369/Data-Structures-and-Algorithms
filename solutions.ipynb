{
 "cells": [
  {
   "cell_type": "markdown",
   "id": "17045e96-9856-4202-9c39-ffb28fb371a9",
   "metadata": {},
   "source": [
    "# 2.12 Backtracking: Problems & Solutions"
   ]
  },
  {
   "cell_type": "markdown",
   "id": "63a29a71-a080-40d4-9128-f2aa6dc84c48",
   "metadata": {},
   "source": [
    "### Generate a ll the binary strings with n bits. Assume A[O.. n - 1] is an array of size n."
   ]
  },
  {
   "cell_type": "code",
   "execution_count": 29,
   "id": "087cb989-770a-4ac2-b953-211de188ab00",
   "metadata": {},
   "outputs": [],
   "source": [
    "import numpy as np\n",
    "\n",
    "def g(n):\n",
    "    # X = \n",
    "    if  n == 1:\n",
    "        return np.array([0,1])\n",
    "    else:\n",
    "        return np.concatenate((g(n-1) , np.array([10**(n-1) + i for i in g(n-1)])))"
   ]
  },
  {
   "cell_type": "code",
   "execution_count": 37,
   "id": "710059f4-5c7e-4455-82b1-e3506451d600",
   "metadata": {},
   "outputs": [],
   "source": [
    "a = g(4)"
   ]
  },
  {
   "cell_type": "code",
   "execution_count": 38,
   "id": "d0b5d76d-9232-465a-b1a1-c25eebd23ce9",
   "metadata": {},
   "outputs": [],
   "source": [
    "a = [str(i) for i in a]"
   ]
  },
  {
   "cell_type": "code",
   "execution_count": 40,
   "id": "284b6764-3b55-47f0-96b0-9502c5109ee5",
   "metadata": {},
   "outputs": [
    {
     "data": {
      "text/plain": [
       "2"
      ]
     },
     "execution_count": 40,
     "metadata": {},
     "output_type": "execute_result"
    }
   ],
   "source": [
    "len(a[2])"
   ]
  },
  {
   "cell_type": "markdown",
   "id": "67db002a-7c02-4b35-b5a3-90ec5a58fe1a",
   "metadata": {},
   "source": [
    "# Some Recursion Problems"
   ]
  },
  {
   "cell_type": "code",
   "execution_count": 23,
   "id": "4de8e1dd-4157-4bd5-a0c0-1d1b85d367a2",
   "metadata": {},
   "outputs": [
    {
     "data": {
      "text/plain": [
       "10"
      ]
     },
     "execution_count": 23,
     "metadata": {},
     "output_type": "execute_result"
    }
   ],
   "source": [
    "##### Summ of all integers in a positive number with recursiion\n",
    "\n",
    "\n",
    "def rec(n):\n",
    "    assert n>= 0, \"number n must be greater or equal to 0\"\n",
    "    if len(str(n)) == 1:\n",
    "        return int(str(n)[0])\n",
    "    else:\n",
    "        summ = int(str(n)[0])\n",
    "        lalist = str(n)[1:]\n",
    "        return  summ + rec(int(str(n)[1:]))\n",
    "\n",
    "\n",
    "def rec(n):\n",
    "    assert n>= 0 and int(n) == n, \"number n must be greater or equal to 0\"\n",
    "    if n < 10 :\n",
    "        return n\n",
    "    else:\n",
    "        a = n%10\n",
    "        b = n//10\n",
    "        return a + rec(b)\n",
    "\n",
    "# rec(10203)\n",
    "\n",
    "\n",
    "######################################################################\n",
    "# Find the power of a number using recursion\n",
    "\n",
    "\n",
    "def power(a,n):\n",
    "    if n == 0 and a ==0:\n",
    "        return 0\n",
    "    elif n == 0:\n",
    "    # if n == 0:\n",
    "        return  1\n",
    "    elif n > 0:\n",
    "        if a in [0,1]:\n",
    "            return a\n",
    "        else:\n",
    "            return a * power(a,n-1)\n",
    "\n",
    "    else:\n",
    "        return (1/a) * power(a,n+1)\n",
    "        \n",
    "            \n",
    "\n",
    "\n",
    "# power(-5,-3)\n",
    "\n",
    "\n",
    "######################################################################\n",
    "# Find the CGD of two numbers using recursion\n",
    "\n",
    "def find_Div(n):\n",
    "    lalist = []\n",
    "    if n==1:\n",
    "        return [1]\n",
    "    for i in range(1,n+1):\n",
    "        if n%i == 0:\n",
    "            lalist.append(i)\n",
    "    return lalist\n",
    "\n",
    "# find_Div(10)\n",
    "\n",
    "\n",
    "def gg(n1, n2):\n",
    "    assert n1 > 0 and n2>0 , \"both number should be  greater than 0\"\n",
    "    list1, list2 = find_Div(n1), find_Div(n2)\n",
    "    print (list1, list2)\n",
    "    return list1, list2\n",
    "\n",
    "\n",
    "def get_CGD(list1, list2):\n",
    "    if len(list1)== 0:\n",
    "        list1 = [1]\n",
    "    print(list2 , list1)\n",
    "    \n",
    "    print(list2[-1] , list1[-1])\n",
    "    if list2[-1] < list1[-1]:\n",
    "        temp = list2\n",
    "        list2 =  list1\n",
    "        list1 = temp\n",
    "    if list2[-1] == list1[-1]:\n",
    "        return list2[-1]\n",
    "    else: \n",
    "        return get_CGD(list1, list2[:-1])\n",
    "\n",
    "\n",
    "def get_CGD_general(n1, n2):\n",
    "    list1, list2 = gg(n1, n2)\n",
    "    return get_CGD(list1, list2)\n",
    "    \n",
    "############### Using Encludian Algorithm\n",
    "\n",
    "def find_GCD(a,b):\n",
    "    assert int(a)==a and int(b)== b, \"a and b should be integers\"\n",
    "    if a<0:\n",
    "        a*=-1\n",
    "    if b<0:\n",
    "        b*=-1\n",
    "    if a<b:\n",
    "        temp = a\n",
    "        a = b\n",
    "        b = temp\n",
    "    if b == 0:\n",
    "        return a \n",
    "    else:\n",
    "        temp = a % b\n",
    "        a = b\n",
    "        return find_GCD(a,temp)\n",
    "\n",
    "# find_GCD(-6, 3)\n",
    "\n",
    "\n",
    "######################################################################\n",
    "# https://www.youtube.com/watch?v=2U9b76JRz7s&list=PLBlnK6fEyqRjMH3mWf6kwqiTbT798eAOm&index=31\n",
    "#Convert a decimal number to binary using recursion\n",
    "\n",
    "def conv(a):\n",
    "    if  a<2:\n",
    "        return a\n",
    "    else:\n",
    "        return  str(conv(a//2)) + str(a%2) \n",
    "\n",
    "def conv(a):\n",
    "    if  a<2:\n",
    "        return a\n",
    "    else:\n",
    "        return (a%2) + conv(a//2)*10\n",
    "\n",
    "conv(2)"
   ]
  },
  {
   "cell_type": "code",
   "execution_count": null,
   "id": "4d597fe1-5398-42f4-aa85-827081930796",
   "metadata": {},
   "outputs": [],
   "source": []
  },
  {
   "cell_type": "code",
   "execution_count": null,
   "id": "dff183fe-a439-454f-9451-0535452a71e5",
   "metadata": {},
   "outputs": [],
   "source": []
  },
  {
   "cell_type": "code",
   "execution_count": null,
   "id": "ab99f380-fe39-4d4d-94dc-4e888d463291",
   "metadata": {},
   "outputs": [],
   "source": []
  },
  {
   "cell_type": "code",
   "execution_count": null,
   "id": "072653a2-0016-4db2-a1bf-a760c9c78d80",
   "metadata": {},
   "outputs": [],
   "source": []
  },
  {
   "cell_type": "code",
   "execution_count": null,
   "id": "4ba80fe8-10b7-495f-a6f8-986019045cb7",
   "metadata": {},
   "outputs": [],
   "source": []
  },
  {
   "cell_type": "code",
   "execution_count": null,
   "id": "fce1e836-0ad3-40a7-b180-7337a0dc7d40",
   "metadata": {},
   "outputs": [],
   "source": []
  },
  {
   "cell_type": "code",
   "execution_count": null,
   "id": "cf6689d0-2339-447c-81c6-e6063c088bf7",
   "metadata": {},
   "outputs": [],
   "source": []
  },
  {
   "cell_type": "code",
   "execution_count": null,
   "id": "b630afa8-82e7-4729-a5f9-47dce1b4c444",
   "metadata": {},
   "outputs": [],
   "source": []
  },
  {
   "cell_type": "code",
   "execution_count": null,
   "id": "9d384187-5d16-42cf-a039-873ac50dcbb4",
   "metadata": {},
   "outputs": [],
   "source": []
  },
  {
   "cell_type": "code",
   "execution_count": null,
   "id": "ca31ae25-8966-4095-ace9-a48138ab10a6",
   "metadata": {},
   "outputs": [],
   "source": []
  },
  {
   "cell_type": "code",
   "execution_count": null,
   "id": "4037011d-c6d0-4b75-b164-f099fec20f9a",
   "metadata": {},
   "outputs": [],
   "source": []
  },
  {
   "cell_type": "code",
   "execution_count": null,
   "id": "7b499843-17bb-4dd2-a885-590b652a7ce7",
   "metadata": {},
   "outputs": [],
   "source": []
  }
 ],
 "metadata": {
  "kernelspec": {
   "display_name": "Python 3 (ipykernel)",
   "language": "python",
   "name": "python3"
  },
  "language_info": {
   "codemirror_mode": {
    "name": "ipython",
    "version": 3
   },
   "file_extension": ".py",
   "mimetype": "text/x-python",
   "name": "python",
   "nbconvert_exporter": "python",
   "pygments_lexer": "ipython3",
   "version": "3.12.6"
  }
 },
 "nbformat": 4,
 "nbformat_minor": 5
}
