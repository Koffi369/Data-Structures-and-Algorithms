{
 "cells": [
  {
   "cell_type": "markdown",
   "id": "17045e96-9856-4202-9c39-ffb28fb371a9",
   "metadata": {},
   "source": [
    "# 2.12 Backtracking: Problems & Solutions"
   ]
  },
  {
   "cell_type": "markdown",
   "id": "63a29a71-a080-40d4-9128-f2aa6dc84c48",
   "metadata": {},
   "source": [
    "### Generate a ll the binary strings with n bits. Assume A[O.. n - 1] is an array of size n."
   ]
  },
  {
   "cell_type": "code",
   "execution_count": 29,
   "id": "087cb989-770a-4ac2-b953-211de188ab00",
   "metadata": {},
   "outputs": [],
   "source": [
    "import numpy as np\n",
    "\n",
    "def g(n):\n",
    "    # X = \n",
    "    if  n == 1:\n",
    "        return np.array([0,1])\n",
    "    else:\n",
    "        return np.concatenate((g(n-1) , np.array([10**(n-1) + i for i in g(n-1)])))"
   ]
  },
  {
   "cell_type": "code",
   "execution_count": 37,
   "id": "710059f4-5c7e-4455-82b1-e3506451d600",
   "metadata": {},
   "outputs": [],
   "source": [
    "a = g(4)"
   ]
  },
  {
   "cell_type": "code",
   "execution_count": 38,
   "id": "d0b5d76d-9232-465a-b1a1-c25eebd23ce9",
   "metadata": {},
   "outputs": [],
   "source": [
    "a = [str(i) for i in a]"
   ]
  },
  {
   "cell_type": "code",
   "execution_count": 40,
   "id": "284b6764-3b55-47f0-96b0-9502c5109ee5",
   "metadata": {},
   "outputs": [
    {
     "data": {
      "text/plain": [
       "2"
      ]
     },
     "execution_count": 40,
     "metadata": {},
     "output_type": "execute_result"
    }
   ],
   "source": [
    "len(a[2])"
   ]
  },
  {
   "cell_type": "code",
   "execution_count": null,
   "id": "259697fb-2c0f-49c1-8ecb-69ed409d6248",
   "metadata": {},
   "outputs": [],
   "source": []
  }
 ],
 "metadata": {
  "kernelspec": {
   "display_name": "Python 3 (ipykernel)",
   "language": "python",
   "name": "python3"
  },
  "language_info": {
   "codemirror_mode": {
    "name": "ipython",
    "version": 3
   },
   "file_extension": ".py",
   "mimetype": "text/x-python",
   "name": "python",
   "nbconvert_exporter": "python",
   "pygments_lexer": "ipython3",
   "version": "3.12.6"
  }
 },
 "nbformat": 4,
 "nbformat_minor": 5
}
