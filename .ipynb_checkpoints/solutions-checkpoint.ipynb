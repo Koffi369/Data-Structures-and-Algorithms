{
 "cells": [
  {
   "cell_type": "markdown",
   "id": "17045e96-9856-4202-9c39-ffb28fb371a9",
   "metadata": {},
   "source": [
    "# 2.12 Backtracking: Problems & Solutions"
   ]
  },
  {
   "cell_type": "markdown",
   "id": "63a29a71-a080-40d4-9128-f2aa6dc84c48",
   "metadata": {},
   "source": [
    "### Generate a ll the binary strings with n bits. Assume A[O.. n - 1] is an array of size n."
   ]
  },
  {
   "cell_type": "code",
   "execution_count": 29,
   "id": "087cb989-770a-4ac2-b953-211de188ab00",
   "metadata": {},
   "outputs": [],
   "source": [
    "import numpy as np\n",
    "\n",
    "def g(n):\n",
    "    # X = \n",
    "    if  n == 1:\n",
    "        return np.array([0,1])\n",
    "    else:\n",
    "        return np.concatenate((g(n-1) , np.array([10**(n-1) + i for i in g(n-1)])))"
   ]
  },
  {
   "cell_type": "code",
   "execution_count": 37,
   "id": "710059f4-5c7e-4455-82b1-e3506451d600",
   "metadata": {},
   "outputs": [],
   "source": [
    "a = g(4)"
   ]
  },
  {
   "cell_type": "code",
   "execution_count": 38,
   "id": "d0b5d76d-9232-465a-b1a1-c25eebd23ce9",
   "metadata": {},
   "outputs": [],
   "source": [
    "a = [str(i) for i in a]"
   ]
  },
  {
   "cell_type": "code",
   "execution_count": 40,
   "id": "284b6764-3b55-47f0-96b0-9502c5109ee5",
   "metadata": {},
   "outputs": [
    {
     "data": {
      "text/plain": [
       "2"
      ]
     },
     "execution_count": 40,
     "metadata": {},
     "output_type": "execute_result"
    }
   ],
   "source": [
    "len(a[2])"
   ]
  },
  {
   "cell_type": "markdown",
   "id": "67db002a-7c02-4b35-b5a3-90ec5a58fe1a",
   "metadata": {},
   "source": [
    "# Some Recursion Problems"
   ]
  },
  {
   "cell_type": "code",
   "execution_count": 1,
   "id": "259697fb-2c0f-49c1-8ecb-69ed409d6248",
   "metadata": {},
   "outputs": [
    {
     "name": "stdout",
     "output_type": "stream",
     "text": [
      "[1, 2, 3, 6] [1, 3]\n",
      "[1, 3] [1, 2, 3, 6]\n",
      "3 6\n",
      "[1, 2, 3] [1, 3]\n",
      "3 3\n"
     ]
    },
    {
     "data": {
      "text/plain": [
       "3"
      ]
     },
     "execution_count": 1,
     "metadata": {},
     "output_type": "execute_result"
    }
   ],
   "source": [
    "# Summ of all integers in a positive number with recursiion\n",
    "\n",
    "\n",
    "def rec(n):\n",
    "    assert n>= 0, \"number n must be greater or equal to 0\"\n",
    "    if len(str(n)) == 1:\n",
    "        return int(str(n)[0])\n",
    "    else:\n",
    "        summ = int(str(n)[0])\n",
    "        lalist = str(n)[1:]\n",
    "        return  summ + rec(int(str(n)[1:]))\n",
    "\n",
    "\n",
    "def rec(n):\n",
    "    assert n>= 0 and int(n) == n, \"number n must be greater or equal to 0\"\n",
    "    if n < 10 :\n",
    "        return n\n",
    "    else:\n",
    "        a = n%10\n",
    "        b = n//10\n",
    "        return a + rec(b)\n",
    "\n",
    "# rec(10203)\n",
    "\n",
    "\n",
    "######################################################################\n",
    "# Find the power of a number using recursion\n",
    "\n",
    "\n",
    "def power(a,n):\n",
    "    if n == 0 and a ==0:\n",
    "        return 0\n",
    "    elif n == 0:\n",
    "    # if n == 0:\n",
    "        return  1\n",
    "    elif n > 0:\n",
    "        if a in [0,1]:\n",
    "            return a\n",
    "        else:\n",
    "            return a * power(a,n-1)\n",
    "\n",
    "    else:\n",
    "        return (1/a) * power(a,n+1)\n",
    "        \n",
    "            \n",
    "\n",
    "\n",
    "# power(-5,-3)\n",
    "\n",
    "\n",
    "######################################################################\n",
    "# Find the CGD of two numbers using recursion\n",
    "\n",
    "def find_Div(n):\n",
    "    lalist = []\n",
    "    if n==1:\n",
    "        return [1]\n",
    "    for i in range(1,n+1):\n",
    "        if n%i == 0:\n",
    "            lalist.append(i)\n",
    "    return lalist\n",
    "\n",
    "# find_Div(10)\n",
    "\n",
    "\n",
    "def gg(n1, n2):\n",
    "    assert n1 > 0 and n2>0 , \"both number should be  greater than 0\"\n",
    "    list1, list2 = find_Div(n1), find_Div(n2)\n",
    "    print (list1, list2)\n",
    "    return list1, list2\n",
    "\n",
    "\n",
    "def get_CGD(list1, list2):\n",
    "    if len(list1)== 0:\n",
    "        list1 = [1]\n",
    "    print(list2 , list1)\n",
    "    \n",
    "    print(list2[-1] , list1[-1])\n",
    "    if list2[-1] < list1[-1]:\n",
    "        temp = list2\n",
    "        list2 =  list1\n",
    "        list1 = temp\n",
    "    if list2[-1] == list1[-1]:\n",
    "        return list2[-1]\n",
    "    else: \n",
    "        return get_CGD(list1, list2[:-1])\n",
    "\n",
    "\n",
    "def get_CGD_general(n1, n2):\n",
    "    list1, list2 = gg(n1, n2)\n",
    "    return get_CGD(list1, list2)\n",
    "    \n",
    "    \n",
    "\n",
    "get_CGD_general(6, 3)"
   ]
  },
  {
   "cell_type": "code",
   "execution_count": null,
   "id": "4d597fe1-5398-42f4-aa85-827081930796",
   "metadata": {},
   "outputs": [],
   "source": []
  }
 ],
 "metadata": {
  "kernelspec": {
   "display_name": "Python 3 (ipykernel)",
   "language": "python",
   "name": "python3"
  },
  "language_info": {
   "codemirror_mode": {
    "name": "ipython",
    "version": 3
   },
   "file_extension": ".py",
   "mimetype": "text/x-python",
   "name": "python",
   "nbconvert_exporter": "python",
   "pygments_lexer": "ipython3",
   "version": "3.12.6"
  }
 },
 "nbformat": 4,
 "nbformat_minor": 5
}
